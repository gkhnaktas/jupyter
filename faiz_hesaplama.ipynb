{
 "cells": [
  {
   "cell_type": "markdown",
   "id": "708fb180-02f7-4bd6-8960-c4d9d2eb7148",
   "metadata": {},
   "source": [
    "## Faiz hesaplama"
   ]
  },
  {
   "cell_type": "markdown",
   "id": "64eda0fd-8607-47d9-89d4-3dc4a19ca7ae",
   "metadata": {},
   "source": [
    "#### Simple Interest (Basit Faiz)"
   ]
  },
  {
   "cell_type": "markdown",
   "id": "7c776aec-7855-4a5a-ac31-19914192ae69",
   "metadata": {},
   "source": [
    "$ A = {P(1 + rt)} $\n",
    "---"
   ]
  },
  {
   "cell_type": "markdown",
   "id": "fcdac380-8869-406f-a2a9-097ac7104817",
   "metadata": {},
   "source": [
    "#### Intermittent Compound Interest (Aralıklı Bileşik Faiz)"
   ]
  },
  {
   "cell_type": "markdown",
   "id": "1a2c4bce-075a-4078-b3a4-10c63b62f362",
   "metadata": {},
   "source": [
    "$ A = {P(1 + {r \\over n})^{nt}} $\n",
    "---"
   ]
  },
  {
   "cell_type": "markdown",
   "id": "8e57cd6e-63ab-46ae-b108-d97010b5a6f3",
   "metadata": {},
   "source": [
    "#### Continuous Compound Interest (Sürekli Bileşik Faiz)"
   ]
  },
  {
   "cell_type": "markdown",
   "id": "f1e777c6-5650-42d6-800b-9e456ed04cc2",
   "metadata": {},
   "source": [
    "$ A = {P{e}^{nt}} $\n",
    "---"
   ]
  },
  {
   "cell_type": "code",
   "execution_count": 15,
   "id": "68e39557-ad11-4dcc-83c4-5328e7a53215",
   "metadata": {},
   "outputs": [
    {
     "data": {
      "application/vnd.jupyter.widget-view+json": {
       "model_id": "c3cc4fac3d9c4f0ea900beccbb537901",
       "version_major": 2,
       "version_minor": 0
      },
      "text/plain": [
       "interactive(children=(IntText(value=100000, description='Principal:', step=100000), IntText(value=1, descripti…"
      ]
     },
     "metadata": {},
     "output_type": "display_data"
    }
   ],
   "source": [
    "import ipywidgets as widgets\n",
    "from ipywidgets import interactive\n",
    "from IPython.display import display\n",
    "from math import e\n",
    "\n",
    "# para miktarı (principal)\n",
    "P = widgets.IntText(\n",
    "    min=100_000,\n",
    "    max=10_000_000,\n",
    "    value=100_000,\n",
    "    step=100_000,\n",
    "    description='Principal:')\n",
    "\n",
    "# süre (time)\n",
    "t = widgets.IntText(\n",
    "    min=1,\n",
    "    max=120,\n",
    "    value=1,\n",
    "    step=1,\n",
    "    description='Time')\n",
    "\n",
    "# yıllık faiz (rate of interest)\n",
    "r = widgets.FloatText(\n",
    "    min=1.0,\n",
    "    max=100.0,\n",
    "    value=40.3,\n",
    "    step=0.1,\n",
    "    description='Interest (%)')\n",
    "\n",
    "# sıklık (frequency)\n",
    "n = widgets.IntText(\n",
    "    min=1,\n",
    "    max=365,\n",
    "    value=12,\n",
    "    step=1,\n",
    "    description='Frequency')\n",
    "\n",
    "def faiz(P, t, r, n):\n",
    "    print(\"\\n\")\n",
    "    print(f\"{'Simple Interest' : <32}: {((P*(1 + (r / 100)*t)) - P):,.2f}\")\n",
    "    print(f\"{'Intermittent Compound Interest' : <32}: {( (P*(1 + ((r / 100)/n))**(n*t)) - P):,.2f}\")\n",
    "    print(f\"{'Continuous Compound Interest' : <32}: {( (P*(e**((r / 100)*t))) - P):,.2f}\")\n",
    "\n",
    "faizler = interactive(faiz, P=P, t=t, r=r, n=n)\n",
    "display(faizler)\n"
   ]
  },
  {
   "cell_type": "markdown",
   "id": "8790e277-5f82-4177-97b7-77bfc1532589",
   "metadata": {},
   "source": [
    "### Amortization Schedule (Kredi Ödeme Tablosu)"
   ]
  },
  {
   "cell_type": "markdown",
   "id": "2f9ad95d-6624-4c4f-9500-59134d2c1535",
   "metadata": {},
   "source": [
    "$ PV = {PMT \\over i} {[1 - {1 \\over ({1+i})^n}]}  $\n",
    "---"
   ]
  },
  {
   "cell_type": "markdown",
   "id": "89964be6-dac2-4bf1-8e9f-3dd317ca4777",
   "metadata": {},
   "source": [
    "- **PV** is the loan amount  \n",
    "- **PMT** is the monthly payment  \n",
    "- **i** is the interest rate per month in decimal form (interest rate percentage divided by 12)  \n",
    "- **n** is the number of months (term of the loan in months)"
   ]
  },
  {
   "cell_type": "code",
   "execution_count": 20,
   "id": "db10806e-6a33-413a-beab-6487c2cb28a8",
   "metadata": {},
   "outputs": [
    {
     "data": {
      "application/vnd.jupyter.widget-view+json": {
       "model_id": "605f9afcb1cb41d2bad0639acc4151f8",
       "version_major": 2,
       "version_minor": 0
      },
      "text/plain": [
       "interactive(children=(IntText(value=100000, description='Loan:', step=100000), FloatText(value=25.2, descripti…"
      ]
     },
     "metadata": {},
     "output_type": "display_data"
    }
   ],
   "source": [
    "loan = widgets.IntText(\n",
    "    min=1_000_000,\n",
    "    max=10_000_000,\n",
    "    value=100_000,\n",
    "    step=100_000,\n",
    "    description='Loan:')\n",
    "\n",
    "interest = widgets.FloatText(\n",
    "    min=0.1,\n",
    "    max=100.0,\n",
    "    value=25.2,\n",
    "    step=0.1,\n",
    "    description='Interest (%)')\n",
    "\n",
    "taxes = widgets.FloatText(\n",
    "    min=1,\n",
    "    max=100.0,\n",
    "    value=30,\n",
    "    step=0.1,\n",
    "    description='Taxes (%)')\n",
    "\n",
    "number = widgets.IntText(\n",
    "    min=1,\n",
    "    max=120,\n",
    "    value=12,\n",
    "    step=1,\n",
    "    description='Months:')\n",
    "\n",
    "def table(loan, interest, taxes, number):\n",
    "\n",
    "    interest_total = (interest * (1 + taxes / 100)) / 100\n",
    "    payment = (interest_total * loan) / (1 - (1 + interest_total)**(-1 * number))\n",
    "    \n",
    "    print(\"-\" * 78)\n",
    "    print(f\"{'#':<3}  {'payment':<13}  {'payback':<13}  {'interest':<13}  {'taxes':<13}  {'left':<15}\")\n",
    "    print(\"-\" * 78)\n",
    "\n",
    "    payback_t = 0\n",
    "    interest_t = 0\n",
    "    taxes_t = 0\n",
    "    \n",
    "    for _ in range(1, number + 1):\n",
    "        if _ == 1:\n",
    "            left = loan\n",
    "        i = left * interest_total\n",
    "        _i = left * interest / 100\n",
    "        _taxes = _i * taxes\n",
    "        payback = payment - i\n",
    "        left = abs(left - payback)\n",
    "        print(f\"{_:<3}  {payment:<13,.2f}  {payback:<13,.2f}  {_i:<13,.2f}  {_taxes:<13,.2f}  {left:<15,.2f}\")\n",
    "    \n",
    "        payback_t += payback\n",
    "        interest_t += _i\n",
    "        taxes_t += _taxes\n",
    "\n",
    "    print(\"-\" * 78)\n",
    "    print(f\"{'#':<3}  {payment * number:<13,.2f}  {payback_t:<13,.2f}  {interest_t:<13,.2f}  {taxes_t:<13,.2f}\")\n",
    "    print(\"-\" * 78)\n",
    "\n",
    "show_table = interactive(table, loan=loan, interest=interest, taxes=taxes, number=number)\n",
    "display(show_table)\n"
   ]
  },
  {
   "cell_type": "code",
   "execution_count": null,
   "id": "c8c065dd-1406-4fec-8b7d-3065935e82a2",
   "metadata": {},
   "outputs": [],
   "source": []
  }
 ],
 "metadata": {
  "kernelspec": {
   "display_name": "Python 3 (ipykernel)",
   "language": "python",
   "name": "python3"
  },
  "language_info": {
   "codemirror_mode": {
    "name": "ipython",
    "version": 3
   },
   "file_extension": ".py",
   "mimetype": "text/x-python",
   "name": "python",
   "nbconvert_exporter": "python",
   "pygments_lexer": "ipython3",
   "version": "3.8.5"
  }
 },
 "nbformat": 4,
 "nbformat_minor": 5
}
